{
  "nbformat": 4,
  "nbformat_minor": 5,
  "metadata": {
    "kernelspec": {
      "display_name": "Python 3",
      "language": "python",
      "name": "python3"
    },
    "language_info": {
      "codemirror_mode": {
        "name": "ipython",
        "version": 3
      },
      "file_extension": ".py",
      "mimetype": "text/x-python",
      "name": "python",
      "nbconvert_exporter": "python",
      "pygments_lexer": "ipython3",
      "version": "3.7.4"
    },
    "colab": {
      "name": "Test model.ipynb",
      "provenance": [],
      "collapsed_sections": [],
      "toc_visible": true,
      "include_colab_link": true
    }
  },
  "cells": [
    {
      "cell_type": "markdown",
      "metadata": {
        "id": "view-in-github",
        "colab_type": "text"
      },
      "source": [
        "<a href=\"https://colab.research.google.com/github/SamBhandari/UoG-1/blob/main/Test_model.ipynb\" target=\"_parent\"><img src=\"https://colab.research.google.com/assets/colab-badge.svg\" alt=\"Open In Colab\"/></a>"
      ]
    },
    {
      "cell_type": "code",
      "metadata": {
        "id": "f431eb06-8944-4fb0-a1eb-c0c5e621ce6b"
      },
      "source": [
        "import pandas as pd\n",
        "import pickle\n",
        "from sklearn.metrics import accuracy_score, confusion_matrix, classification_report\n",
        "import seaborn as sns\n",
        "from sklearn.impute import KNNImputer\n",
        "import matplotlib.pyplot as plt\n",
        "sns.set(color_codes=True)"
      ],
      "id": "f431eb06-8944-4fb0-a1eb-c0c5e621ce6b",
      "execution_count": 45,
      "outputs": []
    },
    {
      "cell_type": "code",
      "metadata": {
        "id": "Ffl-BERUHmCz"
      },
      "source": [
        "from google.colab import drive\n",
        "drive.mount('/content/drive')"
      ],
      "id": "Ffl-BERUHmCz",
      "execution_count": null,
      "outputs": []
    },
    {
      "cell_type": "code",
      "metadata": {
        "id": "kAAp-9dXHmmw"
      },
      "source": [
        "data = pd.read_csv('/content/drive/MyDrive/Data/NewT2-1.yxdb')\n",
        "data.head(10)"
      ],
      "id": "kAAp-9dXHmmw",
      "execution_count": null,
      "outputs": []
    },
    {
      "cell_type": "markdown",
      "metadata": {
        "id": "cef043be-ac0c-4109-9113-08969aad6ea1"
      },
      "source": [
        "## Import Dataset"
      ],
      "id": "cef043be-ac0c-4109-9113-08969aad6ea1"
    },
    {
      "cell_type": "code",
      "metadata": {
        "id": "096f96f9-83d9-480e-9b64-e00f73f55375"
      },
      "source": [
        "data.head(10)"
      ],
      "id": "096f96f9-83d9-480e-9b64-e00f73f55375",
      "execution_count": null,
      "outputs": []
    },
    {
      "cell_type": "markdown",
      "metadata": {
        "id": "259a7896-26ec-4673-b1a7-9ee3cba701fb"
      },
      "source": [
        "## Null Value treatment using knn method ( n=5)"
      ],
      "id": "259a7896-26ec-4673-b1a7-9ee3cba701fb"
    },
    {
      "cell_type": "code",
      "metadata": {
        "id": "0e1ca002-aad0-42c3-9ace-134122865e87"
      },
      "source": [
        "from sklearn.impute import KNNImputer\n",
        "knnimputer = KNNImputer(n_neighbors=5)\n",
        "clean_data = knnimputer.fit_transform(data)\n",
        "clean_data = pd.DataFrame(clean_data, columns=data.columns)"
      ],
      "id": "0e1ca002-aad0-42c3-9ace-134122865e87",
      "execution_count": null,
      "outputs": []
    },
    {
      "cell_type": "code",
      "metadata": {
        "id": "LIkckKFnI7O1"
      },
      "source": [
        "clean_data.shape"
      ],
      "id": "LIkckKFnI7O1",
      "execution_count": null,
      "outputs": []
    },
    {
      "cell_type": "markdown",
      "metadata": {
        "id": "3691fc5f-6991-4c08-b228-f67d9780dd75"
      },
      "source": [
        "## Anomaly detection"
      ],
      "id": "3691fc5f-6991-4c08-b228-f67d9780dd75"
    },
    {
      "cell_type": "code",
      "metadata": {
        "id": "muhGCpP-H5oa"
      },
      "source": [
        "pip install pycaret"
      ],
      "id": "muhGCpP-H5oa",
      "execution_count": null,
      "outputs": []
    },
    {
      "cell_type": "code",
      "metadata": {
        "id": "7dd8721d-45b0-477e-ae04-ea2444a6b940"
      },
      "source": [
        "from pycaret.anomaly import *\n",
        "model_setup = setup(clean_data, normalize = True, session_id = 123)"
      ],
      "id": "7dd8721d-45b0-477e-ae04-ea2444a6b940",
      "execution_count": null,
      "outputs": []
    },
    {
      "cell_type": "code",
      "metadata": {
        "id": "1844e103-fd13-4f12-ab12-ed3972021633"
      },
      "source": [
        "iforest = create_model('iforest')\n",
        "print(iforest)"
      ],
      "id": "1844e103-fd13-4f12-ab12-ed3972021633",
      "execution_count": null,
      "outputs": []
    },
    {
      "cell_type": "code",
      "metadata": {
        "id": "cbdc09f2-c493-4a58-bfd9-5aeb8b376f4b"
      },
      "source": [
        "iforest_results = assign_model(iforest)\n",
        "df = iforest_results.drop(['Anomaly_Score'], axis = 1)\n",
        "df"
      ],
      "id": "cbdc09f2-c493-4a58-bfd9-5aeb8b376f4b",
      "execution_count": null,
      "outputs": []
    },
    {
      "cell_type": "markdown",
      "metadata": {
        "id": "8912ecc5-1ef7-41db-9825-3bed7664ebd0"
      },
      "source": [
        "# Prediction"
      ],
      "id": "8912ecc5-1ef7-41db-9825-3bed7664ebd0"
    },
    {
      "cell_type": "code",
      "metadata": {
        "id": "be19f86b-0c19-43af-ae66-1d694012081b"
      },
      "source": [
        "X = df[['frame.time_relative','frame.len','ip.len','ip.ttl','tcp.seq_raw','tcp.nxtseq','tcp.ack_raw','tcp.window_size_value']]"
      ],
      "id": "be19f86b-0c19-43af-ae66-1d694012081b",
      "execution_count": null,
      "outputs": []
    },
    {
      "cell_type": "code",
      "metadata": {
        "id": "cae8fe8e-8630-46e6-9725-fc339ebc5d75"
      },
      "source": [
        "# load the model from disk\n",
        "loaded_model = pickle.load(open('/content/drive/MyDrive/Data/rfpickel-Final-1.pkl', 'rb'))\n",
        "prediction = loaded_model.predict(X)\n",
        "print(prediction)"
      ],
      "id": "cae8fe8e-8630-46e6-9725-fc339ebc5d75",
      "execution_count": null,
      "outputs": []
    },
    {
      "cell_type": "code",
      "metadata": {
        "id": "651d74bf-babf-4ef3-8117-22f9ef436881"
      },
      "source": [
        "df_result = pd.DataFrame({'Prediction': (prediction)})"
      ],
      "id": "651d74bf-babf-4ef3-8117-22f9ef436881",
      "execution_count": null,
      "outputs": []
    },
    {
      "cell_type": "code",
      "metadata": {
        "id": "bcaeda6c-1864-4d07-b667-988b63da36e9"
      },
      "source": [
        "result = df.merge(df_result,left_index = True,right_index = True)\n",
        "result"
      ],
      "id": "bcaeda6c-1864-4d07-b667-988b63da36e9",
      "execution_count": null,
      "outputs": []
    },
    {
      "cell_type": "markdown",
      "metadata": {
        "id": "9a1c9af2-600d-47c9-b995-f8e83f0d4bd0"
      },
      "source": [
        "## Generate Classification Report"
      ],
      "id": "9a1c9af2-600d-47c9-b995-f8e83f0d4bd0"
    },
    {
      "cell_type": "code",
      "metadata": {
        "id": "50cb88db-8af5-4030-8db4-bf2e8a0bc37a"
      },
      "source": [
        "print(classification_report(prediction, df['Anomaly']))"
      ],
      "id": "50cb88db-8af5-4030-8db4-bf2e8a0bc37a",
      "execution_count": null,
      "outputs": []
    },
    {
      "cell_type": "markdown",
      "metadata": {
        "id": "21c69ceb-9ea3-490c-900d-1eaa141f1d08"
      },
      "source": [
        "## Generate a Confusion Matrix"
      ],
      "id": "21c69ceb-9ea3-490c-900d-1eaa141f1d08"
    },
    {
      "cell_type": "code",
      "metadata": {
        "id": "b48b85da-481f-41da-bd0a-3831e51ed76a"
      },
      "source": [
        "RF_c=confusion_matrix(prediction, df['Anomaly'])\n",
        "ax = sns.heatmap(RF_c, annot=True, fmt=\"d\", cmap=\"Blues\")"
      ],
      "id": "b48b85da-481f-41da-bd0a-3831e51ed76a",
      "execution_count": null,
      "outputs": []
    }
  ]
}